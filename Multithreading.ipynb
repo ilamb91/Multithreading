{
 "cells": [
  {
   "cell_type": "markdown",
   "id": "a9730fd4-23e7-4e6b-a6b2-2234b3e97a58",
   "metadata": {},
   "source": [
    "Q1. What is multithreading in python? hy is it used? Name the module used to handle threads in python"
   ]
  },
  {
   "cell_type": "markdown",
   "id": "f2179adb-b627-4a3e-8d85-f56d30428a1b",
   "metadata": {},
   "source": [
    "A1. The threading module is a high-level implementation of multithreading used to deploy an application in Python. To use multithreading, we need to import the threading module in Python Program. A start() method is used to initiate the activity of a thread."
   ]
  },
  {
   "cell_type": "markdown",
   "id": "f78a351e-1bb1-42d0-8bd6-9e29f9f48126",
   "metadata": {},
   "source": [
    "Q2. Why threading module used? Write the use of the following functions\n",
    " 1. activeCount()\n",
    " 2. currentThread()\n",
    " 3. enumerate()"
   ]
  },
  {
   "cell_type": "markdown",
   "id": "786c0cd5-7bbf-4e3c-b5bf-4156ed7271e7",
   "metadata": {},
   "source": [
    "A2. Threading module is used for creating, controlling and managing threads in python."
   ]
  },
  {
   "cell_type": "markdown",
   "id": "59c4ade6-2f7a-4331-ba61-51494a142603",
   "metadata": {},
   "source": [
    "activeCount() : In Python, the method threading.active_count() from the threading module is used to count the currently active or running threads."
   ]
  },
  {
   "cell_type": "markdown",
   "id": "4cf96b1b-ae08-49fa-a0fb-f9eaf00d503e",
   "metadata": {},
   "source": [
    "currentThread() : The threading.current_thread() is an inbuilt method of the threading module, it is used to return the current Thread object, which corresponds to the caller's thread of control."
   ]
  },
  {
   "cell_type": "markdown",
   "id": "00fb2ef8-b2c0-4a97-9905-1158b1863a96",
   "metadata": {},
   "source": [
    "enumerate() : The enumerate function is a built-in function that allows you to iterate through a sequence and keep track of the index of each element. "
   ]
  },
  {
   "cell_type": "markdown",
   "id": "e5780d2c-eeb6-4457-aecf-fc3eff5069a4",
   "metadata": {},
   "source": [
    "Q3. Explain the following functions\n",
    "1. run()\n",
    "2. start()\n",
    "3. join ()\n",
    "4. isAlive()"
   ]
  },
  {
   "cell_type": "markdown",
   "id": "205b13e2-a4f5-4207-baf9-bbe02d22c915",
   "metadata": {},
   "source": [
    "1. run() - run() method executes any target function belonging to a given thread object that is now active. "
   ]
  },
  {
   "cell_type": "markdown",
   "id": "b16daa83-8a71-45d7-95b3-4107bd5ff9f3",
   "metadata": {},
   "source": [
    "2. start() - start() method is an inbuilt method of the Thread class of the threading module, it is used to start a thread's activity. "
   ]
  },
  {
   "cell_type": "markdown",
   "id": "1710ac2b-ab2f-49a9-8c55-b8c6fc16c64f",
   "metadata": {},
   "source": [
    "3. join () - join() function is used to join all the elements from the iterable and create a string and return it as an output to the user. "
   ]
  },
  {
   "cell_type": "markdown",
   "id": "00995542-3045-4505-bd27-30addbc72232",
   "metadata": {},
   "source": [
    "4. isAlive() - isAlive() method checks whether a thread is still executing."
   ]
  },
  {
   "cell_type": "markdown",
   "id": "4c036908-b182-4a41-8b9e-52eb73801520",
   "metadata": {},
   "source": [
    "Q4. Write a python program to create two threads. Thread one must print the list of squares and thread two must print the list of cubes."
   ]
  },
  {
   "cell_type": "code",
   "execution_count": 3,
   "id": "d255fdd9-a208-4827-bddc-a2f4832969ca",
   "metadata": {},
   "outputs": [
    {
     "name": "stdout",
     "output_type": "stream",
     "text": [
      "Square: 100\n",
      "Cube: 1000\n",
      "Done\n"
     ]
    }
   ],
   "source": [
    "#A4.\n",
    "import threading\n",
    "def print_cube(num):\n",
    "    print(\"Cube: {}\" .format(num * num * num))\n",
    "def print_square(num):\n",
    "    print(\"Square: {}\" .format(num * num))\n",
    "if __name__ ==\"__main__\":\n",
    "    t1 = threading.Thread(target=print_square, args=(10,))\n",
    "    t2 = threading.Thread(target=print_cube, args=(10,))\n",
    "  \n",
    "    t1.start()\n",
    "    t2.start()\n",
    " \n",
    "    t1.join()\n",
    "    t2.join()\n",
    " \n",
    "    print(\"Done\")"
   ]
  },
  {
   "cell_type": "markdown",
   "id": "a5114d31-9cae-4b59-949c-fc155911f6ce",
   "metadata": {},
   "source": [
    "Q5. State advantages and disadvantages of multithreading."
   ]
  },
  {
   "cell_type": "markdown",
   "id": "7bc254b2-a0a7-4dfa-af51-2c34c6779fb2",
   "metadata": {},
   "source": [
    "#Common advantages of multithreading:\n",
    "1. Enhanced performance by decreased development time\n",
    "2. Simplified and streamlined program coding\n",
    "3. Improvised GUI responsiveness\n",
    "4. Simultaneous and parallelized occurrence of tasks\n",
    "5. Better use of cache storage by utilization of resources\n",
    "6. Decreased cost of maintenance\n",
    "7. Better use of CPU resource\n",
    "\n",
    "#Common disadvantages of multithreading:\n",
    "1. Complex debugging and testing processes\n",
    "2. Overhead switching of context\n",
    "3. Increased potential for deadlock occurrence\n",
    "4. Increased difficulty level in writing a program\n",
    "5. Unpredictable results"
   ]
  },
  {
   "cell_type": "markdown",
   "id": "343fd90d-1ffc-4840-a2ae-ac62597c52b2",
   "metadata": {},
   "source": [
    "Q6. Explain deadlocks and race conditions."
   ]
  },
  {
   "cell_type": "code",
   "execution_count": 4,
   "id": "986af3a5-335f-4fd0-99ec-13724133d108",
   "metadata": {},
   "outputs": [],
   "source": [
    "#A deadlock is a concurrency failure mode where a thread or threads wait for a condition that never occurs.\n",
    "#A race condition is a failure case where the behavior of the program is dependent upon the order of execution by two or more threads.\n"
   ]
  },
  {
   "cell_type": "code",
   "execution_count": null,
   "id": "47a9e34a-6f85-46d4-91f7-9384fb5ab38c",
   "metadata": {},
   "outputs": [],
   "source": []
  }
 ],
 "metadata": {
  "kernelspec": {
   "display_name": "Python 3 (ipykernel)",
   "language": "python",
   "name": "python3"
  },
  "language_info": {
   "codemirror_mode": {
    "name": "ipython",
    "version": 3
   },
   "file_extension": ".py",
   "mimetype": "text/x-python",
   "name": "python",
   "nbconvert_exporter": "python",
   "pygments_lexer": "ipython3",
   "version": "3.10.8"
  }
 },
 "nbformat": 4,
 "nbformat_minor": 5
}
